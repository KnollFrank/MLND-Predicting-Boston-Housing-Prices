{
 "cells": [
  {
   "cell_type": "markdown",
   "metadata": {},
   "source": [
    "# Machine Learning Engineer Nanodegree\n",
    "## Model Evaluation & Validation\n",
    "## Project: Predicting Boston Housing Prices\n",
    "\n",
    "Welcome to the first project of the Machine Learning Engineer Nanodegree! In this notebook, some template code has already been provided for you, and you will need to implement additional functionality to successfully complete this project. You will not need to modify the included code beyond what is requested. Sections that begin with **'Implementation'** in the header indicate that the following block of code will require additional functionality which you must provide. Instructions will be provided for each section and the specifics of the implementation are marked in the code block with a 'TODO' statement. Please be sure to read the instructions carefully!\n",
    "\n",
    "In addition to implementing code, there will be questions that you must answer which relate to the project and your implementation. Each section where you will answer a question is preceded by a **'Question X'** header. Carefully read each question and provide thorough answers in the following text boxes that begin with **'Answer:'**. Your project submission will be evaluated based on your answers to each of the questions and the implementation you provide.  \n",
    "\n",
    ">**Note:** Code and Markdown cells can be executed using the **Shift + Enter** keyboard shortcut. In addition, Markdown cells can be edited by typically double-clicking the cell to enter edit mode."
   ]
  },
  {
   "cell_type": "markdown",
   "metadata": {},
   "source": [
    "## Getting Started\n",
    "In this project, you will evaluate the performance and predictive power of a model that has been trained and tested on data collected from homes in suburbs of Boston, Massachusetts. A model trained on this data that is seen as a *good fit* could then be used to make certain predictions about a home — in particular, its monetary value. This model would prove to be invaluable for someone like a real estate agent who could make use of such information on a daily basis.\n",
    "\n",
    "The dataset for this project originates from the [UCI Machine Learning Repository](https://archive.ics.uci.edu/ml/datasets/Housing). The Boston housing data was collected in 1978 and each of the 506 entries represent aggregated data about 14 features for homes from various suburbs in Boston, Massachusetts. For the purposes of this project, the following preprocessing steps have been made to the dataset:\n",
    "- 16 data points have an `'MEDV'` value of 50.0. These data points likely contain **missing or censored values** and have been removed.\n",
    "- 1 data point has an `'RM'` value of 8.78. This data point can be considered an **outlier** and has been removed.\n",
    "- The features `'RM'`, `'LSTAT'`, `'PTRATIO'`, and `'MEDV'` are essential. The remaining **non-relevant features** have been excluded.\n",
    "- The feature `'MEDV'` has been **multiplicatively scaled** to account for 35 years of market inflation.\n",
    "\n",
    "Run the code cell below to load the Boston housing dataset, along with a few of the necessary Python libraries required for this project. You will know the dataset loaded successfully if the size of the dataset is reported."
   ]
  },
  {
   "cell_type": "code",
   "execution_count": 68,
   "metadata": {},
   "outputs": [
    {
     "name": "stdout",
     "output_type": "stream",
     "text": [
      "Boston housing dataset has 489 data points with 4 variables each.\n"
     ]
    }
   ],
   "source": [
    "# Import libraries necessary for this project\n",
    "import numpy as np\n",
    "import pandas as pd\n",
    "from sklearn.model_selection import ShuffleSplit\n",
    "\n",
    "# Import supplementary visualizations code visuals.py\n",
    "import visuals as vs\n",
    "\n",
    "# Pretty display for notebooks\n",
    "%matplotlib inline\n",
    "\n",
    "# Load the Boston housing dataset\n",
    "data = pd.read_csv('housing.csv')\n",
    "prices = data['MEDV']\n",
    "features = data.drop('MEDV', axis = 1)\n",
    "    \n",
    "# Success\n",
    "print(\"Boston housing dataset has {} data points with {} variables each.\".format(*data.shape))"
   ]
  },
  {
   "cell_type": "markdown",
   "metadata": {},
   "source": [
    "## Data Exploration\n",
    "In this first section of this project, you will make a cursory investigation about the Boston housing data and provide your observations. Familiarizing yourself with the data through an explorative process is a fundamental practice to help you better understand and justify your results.\n",
    "\n",
    "Since the main goal of this project is to construct a working model which has the capability of predicting the value of houses, we will need to separate the dataset into **features** and the **target variable**. The **features**, `'RM'`, `'LSTAT'`, and `'PTRATIO'`, give us quantitative information about each data point. The **target variable**, `'MEDV'`, will be the variable we seek to predict. These are stored in `features` and `prices`, respectively."
   ]
  },
  {
   "cell_type": "markdown",
   "metadata": {},
   "source": [
    "### Implementation: Calculate Statistics\n",
    "For your very first coding implementation, you will calculate descriptive statistics about the Boston housing prices. Since `numpy` has already been imported for you, use this library to perform the necessary calculations. These statistics will be extremely important later on to analyze various prediction results from the constructed model.\n",
    "\n",
    "In the code cell below, you will need to implement the following:\n",
    "- Calculate the minimum, maximum, mean, median, and standard deviation of `'MEDV'`, which is stored in `prices`.\n",
    "  - Store each calculation in their respective variable."
   ]
  },
  {
   "cell_type": "code",
   "execution_count": 69,
   "metadata": {},
   "outputs": [
    {
     "name": "stdout",
     "output_type": "stream",
     "text": [
      "Statistics for Boston housing dataset:\n",
      "\n",
      "Minimum price: $105,000.00\n",
      "Maximum price: $1,024,800.00\n",
      "Mean price: $454,342.94\n",
      "Median price $438,900.00\n",
      "Standard deviation of prices: $165,171.13\n"
     ]
    }
   ],
   "source": [
    "# TODO: Minimum price of the data\n",
    "minimum_price = np.min(prices)\n",
    "\n",
    "# TODO: Maximum price of the data\n",
    "maximum_price = np.max(prices)\n",
    "\n",
    "# TODO: Mean price of the data\n",
    "mean_price = np.mean(prices)\n",
    "\n",
    "# TODO: Median price of the data\n",
    "median_price = np.median(prices)\n",
    "\n",
    "# TODO: Standard deviation of prices of the data\n",
    "std_price = np.std(prices)\n",
    "\n",
    "# Show the calculated statistics\n",
    "print(\"Statistics for Boston housing dataset:\\n\")\n",
    "print(\"Minimum price: ${:,.2f}\".format(minimum_price))\n",
    "print(\"Maximum price: ${:,.2f}\".format(maximum_price))\n",
    "print(\"Mean price: ${:,.2f}\".format(mean_price))\n",
    "print(\"Median price ${:,.2f}\".format(median_price))\n",
    "print(\"Standard deviation of prices: ${:,.2f}\".format(std_price))"
   ]
  },
  {
   "cell_type": "markdown",
   "metadata": {},
   "source": [
    "### Question 1 - Feature Observation\n",
    "As a reminder, we are using three features from the Boston housing dataset: `'RM'`, `'LSTAT'`, and `'PTRATIO'`. For each data point (neighborhood):\n",
    "- `'RM'` is the average number of rooms among homes in the neighborhood.\n",
    "- `'LSTAT'` is the percentage of homeowners in the neighborhood considered \"lower class\" (working poor).\n",
    "- `'PTRATIO'` is the ratio of students to teachers in primary and secondary schools in the neighborhood.\n",
    "\n",
    "\n",
    "** Using your intuition, for each of the three features above, do you think that an increase in the value of that feature would lead to an **increase** in the value of `'MEDV'` or a **decrease** in the value of `'MEDV'`? Justify your answer for each.**\n",
    "\n",
    "**Hint:** This problem can phrased using examples like below.  \n",
    "* Would you expect a home that has an `'RM'` value(number of rooms) of 6 be worth more or less than a home that has an `'RM'` value of 7?\n",
    "* Would you expect a neighborhood that has an `'LSTAT'` value(percent of lower class workers) of 15 have home prices be worth more or less than a neighborhood that has an `'LSTAT'` value of 20?\n",
    "* Would you expect a neighborhood that has an `'PTRATIO'` value(ratio of students to teachers) of 10 have home prices be worth more or less than a neighborhood that has an `'PTRATIO'` value of 15?"
   ]
  },
  {
   "cell_type": "markdown",
   "metadata": {},
   "source": [
    "**Answer: **\n",
    "\n",
    "claim: When the living conditions of a family improve or worsen then the rent of the familie's apartment will increase or decrease.\n",
    "\n",
    "* Initial situation: A family with a child which does not have a nursery, but places the child's toys in the living room. Now the family moves into a similar apartment having an additional room, which can be used as a nursery (RM increase). This is an improvement in the familie's housing situation, which by the above claim will increase MEDV.\n",
    "* Initial situation: A family man becomes unemployed and can't pay the rent of the current apartment any more and gets a qualitatively worse social housing in another district, in which many other welfare recipients live (LSTAT increase). This is a worsening of the living conditions which by the above claim will decrease MEDV.\n",
    "* A family lives in the city. The child visits an expensive private school with many teachers. For professional reasons, the family moves to a rural area where there is only one public school with large classes (PTRATIO increase). This worsens the educational chances of the child which by the above claim will decrease MEDV.\n",
    "\n",
    "In summary:\n",
    "\n",
    "|                  |               | |\n",
    "|:---------------- |:------------- |:-----|\n",
    "| RM increase      | MEDV increase | |\n",
    "| LSTAT increase   | MEDV decrease | |\n",
    "| PTRATIO increase | MEDV decrease | |\n",
    "\n",
    "From looking at the following scatter plots for RM and LSTAT the claims \"RM increase => MEDV increase\" and \"LSTAT increase => MEDV decrease\" seem to be correct. Unfortunately from the scatter plot for PTRATIO I can not prove the claim \"PTRATIO increase => MEDV decrease\"."
   ]
  },
  {
   "cell_type": "code",
   "execution_count": 70,
   "metadata": {},
   "outputs": [
    {
     "data": {
      "text/plain": [
       "<matplotlib.axes._subplots.AxesSubplot at 0x7f520eb8ff28>"
      ]
     },
     "execution_count": 70,
     "metadata": {},
     "output_type": "execute_result"
    },
    {
     "data": {
      "image/png": "[encoded data removed]",
      "text/plain": [
       "<matplotlib.figure.Figure at 0x7f520e8214e0>"
      ]
     },
     "metadata": {},
     "output_type": "display_data"
    },
    {
     "data": {
      "image/png": "[encoded data removed]",
      "text/plain": [
       "<matplotlib.figure.Figure at 0x7f520c025eb8>"
      ]
     },
     "metadata": {},
     "output_type": "display_data"
    },
    {
     "data": {
      "image/png": "[encoded data removed]",
      "text/plain": [
       "<matplotlib.figure.Figure at 0x7f520c07cf98>"
      ]
     },
     "metadata": {},
     "output_type": "display_data"
    }
   ],
   "source": [
    "data.plot.scatter(x='RM', y='MEDV')\n",
    "data.plot.scatter(x='LSTAT', y='MEDV')\n",
    "data.plot.scatter(x='PTRATIO', y='MEDV')"
   ]
  },
  {
   "cell_type": "markdown",
   "metadata": {},
   "source": [
    "----\n",
    "\n",
    "## Developing a Model\n",
    "In this second section of the project, you will develop the tools and techniques necessary for a model to make a prediction. Being able to make accurate evaluations of each model's performance through the use of these tools and techniques helps to greatly reinforce the confidence in your predictions."
   ]
  },
  {
   "cell_type": "markdown",
   "metadata": {},
   "source": [
    "### Implementation: Define a Performance Metric\n",
    "It is difficult to measure the quality of a given model without quantifying its performance over training and testing. This is typically done using some type of performance metric, whether it is through calculating some type of error, the goodness of fit, or some other useful measurement. For this project, you will be calculating the [*coefficient of determination*](http://stattrek.com/statistics/dictionary.aspx?definition=coefficient_of_determination), R<sup>2</sup>, to quantify your model's performance. The coefficient of determination for a model is a useful statistic in regression analysis, as it often describes how \"good\" that model is at making predictions. \n",
    "\n",
    "The values for R<sup>2</sup> range from 0 to 1, which captures the percentage of squared correlation between the predicted and actual values of the **target variable**. A model with an R<sup>2</sup> of 0 is no better than a model that always predicts the *mean* of the target variable, whereas a model with an R<sup>2</sup> of 1 perfectly predicts the target variable. Any value between 0 and 1 indicates what percentage of the target variable, using this model, can be explained by the **features**. _A model can be given a negative R<sup>2</sup> as well, which indicates that the model is **arbitrarily worse** than one that always predicts the mean of the target variable._\n",
    "\n",
    "For the `performance_metric` function in the code cell below, you will need to implement the following:\n",
    "- Use `r2_score` from `sklearn.metrics` to perform a performance calculation between `y_true` and `y_predict`.\n",
    "- Assign the performance score to the `score` variable."
   ]
  },
  {
   "cell_type": "code",
   "execution_count": 71,
   "metadata": {},
   "outputs": [],
   "source": [
    "# TODO: Import 'r2_score'\n",
    "from sklearn.metrics import r2_score\n",
    "\n",
    "def performance_metric(y_true, y_predict):\n",
    "    \"\"\" Calculates and returns the performance score between \n",
    "        true and predicted values based on the metric chosen. \"\"\"\n",
    "    \n",
    "    # TODO: Calculate the performance score between 'y_true' and 'y_predict'\n",
    "    score = r2_score(y_true, y_predict)\n",
    "    \n",
    "    # Return the score\n",
    "    return score"
   ]
  },
  {
   "cell_type": "markdown",
   "metadata": {},
   "source": [
    "### Question 2 - Goodness of Fit\n",
    "Assume that a dataset contains five data points and a model made the following predictions for the target variable:\n",
    "\n",
    "| True Value | Prediction |\n",
    "| :-------------: | :--------: |\n",
    "| 3.0 | 2.5 |\n",
    "| -0.5 | 0.0 |\n",
    "| 2.0 | 2.1 |\n",
    "| 7.0 | 7.8 |\n",
    "| 4.2 | 5.3 |\n",
    "\n",
    "Run the code cell below to use the `performance_metric` function and calculate this model's coefficient of determination."
   ]
  },
  {
   "cell_type": "code",
   "execution_count": 72,
   "metadata": {},
   "outputs": [
    {
     "name": "stdout",
     "output_type": "stream",
     "text": [
      "Model has a coefficient of determination, R^2, of 0.923.\n"
     ]
    }
   ],
   "source": [
    "# Calculate the performance of this model\n",
    "y_true = [3, -0.5, 2, 7, 4.2]\n",
    "y_predict = [2.5, 0.0, 2.1, 7.8, 5.3]\n",
    "score = performance_metric(y_true, y_predict)\n",
    "print(\"Model has a coefficient of determination, R^2, of {:.3f}.\".format(score))"
   ]
  },
  {
   "cell_type": "markdown",
   "metadata": {},
   "source": [
    "* Would you consider this model to have successfully captured the variation of the target variable? \n",
    "* Why or why not?\n",
    "\n",
    "** Hint: **  The R2 score is the proportion of the variance in the dependent variable that is predictable from the independent variable. In other words:\n",
    "* R2 score of 0 means that the dependent variable cannot be predicted from the independent variable.\n",
    "* R2 score of 1 means the dependent variable can be predicted from the independent variable.\n",
    "* R2 score between 0 and 1 indicates the extent to which the dependent variable is predictable. \n",
    "* R2 score of 0.40 means that 40 percent of the variance in Y is predictable from X."
   ]
  },
  {
   "cell_type": "markdown",
   "metadata": {},
   "source": [
    "**Answer:**\n",
    "\n",
    "Starting from the definition of the r2_score (see: http://scikit-learn.org/stable/modules/model_evaluation.html#r2-score) we get:\n",
    "```\n",
    "r2 = 1 - np.sum((y_true - y_predict)**2) / np.sum((y_true - y_true.mean())**2)\n",
    "<=> (by shuffling summands and factors around)\n",
    "np.sum((y_true - y_predict)**2) = (1 - r2) * np.sum((y_true - y_true.mean())**2)\n",
    "<=> (divide both sides by y_true.size)\n",
    "np.sum((y_true - y_predict)**2)/y_true.size = (1 - r2) * np.sum((y_true - y_true.mean())**2)/y_true.size\n",
    "<=> (by definition of mean)\n",
    "np.mean((y_true - y_predict)**2) = (1 - r2) * np.mean((y_true - y_true.mean())**2)\n",
    "<=> (by definition of mean_squared_error and variance)\n",
    "sklearn.metrics.mean_squared_error(y_true, y_predict) = (1 - r2) * np.var(y_true)\n",
    "<=>\n",
    "sklearn.metrics.mean_squared_error(y_true, y_predict) = (1 - 0.923) * np.var(y_true)\n",
    "<=>\n",
    "sklearn.metrics.mean_squared_error(y_true, y_predict) = 0.077 * np.var(y_true)\n",
    "```\n",
    "which means that the mean squared error between the true values and the predicted values is only 7.7 percent of the variance of the true values. This means that the mean squared error is quite low compared to the variance, therefore the true values can be predicted quite good."
   ]
  },
  {
   "cell_type": "markdown",
   "metadata": {},
   "source": [
    "### Implementation: Shuffle and Split Data\n",
    "Your next implementation requires that you take the Boston housing dataset and split the data into training and testing subsets. Typically, the data is also shuffled into a random order when creating the training and testing subsets to remove any bias in the ordering of the dataset.\n",
    "\n",
    "For the code cell below, you will need to implement the following:\n",
    "- Use `train_test_split` from `sklearn.cross_validation` to shuffle and split the `features` and `prices` data into training and testing sets.\n",
    "  - Split the data into 80% training and 20% testing.\n",
    "  - Set the `random_state` for `train_test_split` to a value of your choice. This ensures results are consistent.\n",
    "- Assign the train and testing splits to `X_train`, `X_test`, `y_train`, and `y_test`."
   ]
  },
  {
   "cell_type": "code",
   "execution_count": 73,
   "metadata": {},
   "outputs": [
    {
     "name": "stdout",
     "output_type": "stream",
     "text": [
      "Training and testing split was successful.\n"
     ]
    }
   ],
   "source": [
    "# TODO: Import 'train_test_split'\n",
    "from sklearn.model_selection import train_test_split\n",
    "\n",
    "# TODO: Shuffle and split the data into training and testing subsets\n",
    "X_train, X_test, y_train, y_test = train_test_split(features, prices, test_size=0.2, random_state=815)\n",
    "\n",
    "# Success\n",
    "print(\"Training and testing split was successful.\")"
   ]
  },
  {
   "cell_type": "markdown",
   "metadata": {},
   "source": [
    "### Question 3 - Training and Testing\n",
    "\n",
    "* What is the benefit to splitting a dataset into some ratio of training and testing subsets for a learning algorithm?\n",
    "\n",
    "**Hint:** Think about how overfitting or underfitting is contingent upon how splits on data is done."
   ]
  },
  {
   "cell_type": "markdown",
   "metadata": {},
   "source": [
    "**Answer: **\n",
    "\n",
    "There are two extreme cases how a dataset may be split:\n",
    "* no splitting at all: 100% training data, 0% test data. Train the model on the training data. Maybe the model just memorizes the training data like a database. Afterwards evaluate the model on the only available data: the training data. The model will be very successful at handling the training data by just querying its internal database, but then it will have poor performance in production when yet unseen data, which is not stored in the model's internal database, is fed into the model. The model generalizes badly, it has overfitted the training data.\n",
    "* very small training data set, very large test data set: Then train the model on the training data. The model could learn to handle the training data well, but the test data could contain types of data which are not part of the training data set due to its small size, which the model therefore hasn't seen while training and will not handle successful. The model has underfitted the data.\n",
    "\n",
    "So in order to prevent these two undesirable extreme cases of overfitting and underfitting, a good split of the dataset has to be made such that the model generalizes well."
   ]
  },
  {
   "cell_type": "markdown",
   "metadata": {},
   "source": [
    "----\n",
    "\n",
    "## Analyzing Model Performance\n",
    "In this third section of the project, you'll take a look at several models' learning and testing performances on various subsets of training data. Additionally, you'll investigate one particular algorithm with an increasing `'max_depth'` parameter on the full training set to observe how model complexity affects performance. Graphing your model's performance based on varying criteria can be beneficial in the analysis process, such as visualizing behavior that may not have been apparent from the results alone."
   ]
  },
  {
   "cell_type": "markdown",
   "metadata": {},
   "source": [
    "### Learning Curves\n",
    "The following code cell produces four graphs for a decision tree model with different maximum depths. Each graph visualizes the learning curves of the model for both training and testing as the size of the training set is increased. Note that the shaded region of a learning curve denotes the uncertainty of that curve (measured as the standard deviation). The model is scored on both the training and testing sets using R<sup>2</sup>, the coefficient of determination.  \n",
    "\n",
    "Run the code cell below and use these graphs to answer the following question."
   ]
  },
  {
   "cell_type": "code",
   "execution_count": 74,
   "metadata": {
    "scrolled": true
   },
   "outputs": [
    {
     "data": {
      "image/png": "[encoded data removed]",
      "text/plain": [
       "<matplotlib.figure.Figure at 0x7f520e7ea160>"
      ]
     },
     "metadata": {},
     "output_type": "display_data"
    }
   ],
   "source": [
    "# Produce learning curves for varying training set sizes and maximum depths\n",
    "vs.ModelLearning(features, prices)"
   ]
  },
  {
   "cell_type": "markdown",
   "metadata": {},
   "source": [
    "### Question 4 - Learning the Data\n",
    "* Choose one of the graphs above and state the maximum depth for the model. \n",
    "* What happens to the score of the training curve as more training points are added? What about the testing curve? \n",
    "* Would having more training points benefit the model? \n",
    "\n",
    "**Hint:** Are the learning curves converging to particular scores? Generally speaking, the more data you have, the better. But if your training and testing curves are converging with a score above your benchmark threshold, would this be necessary?\n",
    "Think about the pros and cons of adding more training points based on if the training and testing curves are converging."
   ]
  },
  {
   "cell_type": "markdown",
   "metadata": {},
   "source": [
    "**Answer: **\n",
    "\n",
    "* using graph having max_depth = 3\n",
    "* the training curve has a negative slope converging to a score of about 0.8\n",
    "* the testing curve has a positive slope converging to a score of about 0.8\n",
    "* both curves seem to asymptotically converge to a score of 0.8, e.g. when adding more training points the score still equals 0.8, so adding more training points would not benefit the model.  "
   ]
  },
  {
   "cell_type": "markdown",
   "metadata": {},
   "source": [
    "### Complexity Curves\n",
    "The following code cell produces a graph for a decision tree model that has been trained and validated on the training data using different maximum depths. The graph produces two complexity curves — one for training and one for validation. Similar to the **learning curves**, the shaded regions of both the complexity curves denote the uncertainty in those curves, and the model is scored on both the training and validation sets using the `performance_metric` function.  \n",
    "\n",
    "** Run the code cell below and use this graph to answer the following two questions Q5 and Q6. **"
   ]
  },
  {
   "cell_type": "code",
   "execution_count": 75,
   "metadata": {},
   "outputs": [
    {
     "data": {
      "image/png": "[encoded data removed]",
      "text/plain": [
       "<matplotlib.figure.Figure at 0x7f5210cc8a20>"
      ]
     },
     "metadata": {},
     "output_type": "display_data"
    }
   ],
   "source": [
    "vs.ModelComplexity(X_train, y_train)"
   ]
  },
  {
   "cell_type": "markdown",
   "metadata": {},
   "source": [
    "### Question 5 - Bias-Variance Tradeoff\n",
    "* When the model is trained with a maximum depth of 1, does the model suffer from high bias or from high variance? \n",
    "* How about when the model is trained with a maximum depth of 10? What visual cues in the graph justify your conclusions?\n",
    "\n",
    "**Hint:** High bias is a sign of underfitting(model is not complex enough to pick up the nuances in the data) and high variance is a sign of overfitting(model is by-hearting the data and cannot generalize well). Think about which model(depth 1 or 10) aligns with which part of the tradeoff."
   ]
  },
  {
   "cell_type": "markdown",
   "metadata": {},
   "source": [
    "**Answer: **\n",
    "\n",
    "TODO: nachlesen in Bishop, ab Seite 147.\n",
    "* maximum depth of 1 => high bias:\n",
    "  * see https://en.wikipedia.org/wiki/Bias%E2%80%93variance_tradeoff: bias–variance decomposition:\n",
    "expected loss = bias<sup>2</sup> + variance (+ noise):\n",
    "Validationscore(1) ~= Trainingscore(1) (=> low variance) und klein (=> \"expected loss\" groß) => bias<sup>2</sup> = expected loss - variance = high - low = high.\n",
    "  * maximum depth = 1 means low complexity of the decision tree model => underfitting, high bias \n",
    "* maximum depth of 10 => high variance:\n",
    "  * Validationscore(10) << Trainingscore(10) (=> high variance)\n",
    "  * maximum depth = 10 means high complexity of the decision tree model => overfitting, high variance \n"
   ]
  },
  {
   "cell_type": "markdown",
   "metadata": {},
   "source": [
    "### Question 6 - Best-Guess Optimal Model\n",
    "* Which maximum depth do you think results in a model that best generalizes to unseen data? \n",
    "* What intuition lead you to this answer?\n",
    "\n",
    "** Hint: ** Look at the graph above Question 5 and see where the validation scores lie for the various depths that have been assigned to the model. Does it get better with increased depth? At what point do we get our best validation score without overcomplicating our model? And remember, Occams Razor states \"Among competing hypotheses, the one with the fewest assumptions should be selected.\""
   ]
  },
  {
   "cell_type": "markdown",
   "metadata": {},
   "source": [
    "**Answer: **\n",
    "\n",
    "At maximum depth = 4 the validation score has a local maximum of about 0.7. The assumption is that the validation score for maximum depth > 4 has a slope <= 0, such that the local maximum of 0.7 at maximum depth = 4 is even a global maximum. So maximum depth = 4 seems to result in the best generalizing model."
   ]
  },
  {
   "cell_type": "markdown",
   "metadata": {},
   "source": [
    "-----\n",
    "\n",
    "## Evaluating Model Performance\n",
    "In this final section of the project, you will construct a model and make a prediction on the client's feature set using an optimized model from `fit_model`."
   ]
  },
  {
   "cell_type": "markdown",
   "metadata": {},
   "source": [
    "### Question 7 - Grid Search\n",
    "* What is the grid search technique?\n",
    "* How it can be applied to optimize a learning algorithm?\n",
    "\n",
    "** Hint: ** When explaining the Grid Search technique, be sure to touch upon why it is used,  what the 'grid' entails and what the end goal of this method is. To solidify your answer, you can also give an example of a parameter in a model that can be optimized using this approach."
   ]
  },
  {
   "cell_type": "markdown",
   "metadata": {},
   "source": [
    "**Answer: **\n",
    "\n",
    "(see https://en.wikipedia.org/wiki/Hyperparameter_optimization#Grid_search)\n",
    "\n",
    "Die grid search Technik `grid_search` versucht, unter einer gegebenen Auswahl `hyper_params_pool` von möglichen Hyperparametern eines Lernalgorithmuses diejenige Kombination aus Hyperparametern zu finden, die den Lernalgorithmus bestmöglich gemäß einem score den Zusammenhang zwischen Eingabedaten `X` und Ausgabedaten `y` lernen läßt:"
   ]
  },
  {
   "cell_type": "code",
   "execution_count": 76,
   "metadata": {},
   "outputs": [],
   "source": [
    "def grid_search(estimator_factory, hyper_params_pool, fit_and_score, X, y):\n",
    "    estimators = create_estimators(estimator_factory, hyper_params_pool)\n",
    "    scoreByEstimator = fit_and_score_estimators(estimators, lambda estimator: fit_and_score(estimator, X, y))\n",
    "    best_estimator = get_best_estimator(scoreByEstimator)\n",
    "    return get_hyper_params(best_estimator, hyper_params_pool.keys())\n",
    "\n",
    "\n",
    "def create_estimators(estimator_factory, hyper_params_pool):\n",
    "    all_hyper_param_combinations = dict_product(hyper_params_pool)\n",
    "    return map(estimator_factory, all_hyper_param_combinations)\n",
    "\n",
    "\n",
    "# copied from https://codereview.stackexchange.com/questions/185093/product-of-dictionary-values\n",
    "def dict_product(d):\n",
    "    from itertools import product\n",
    "    keys = d.keys()\n",
    "    for element in product(*d.values()):\n",
    "        yield dict(zip(keys, element))\n",
    "\n",
    "\n",
    "def fit_and_score_estimators(estimators, fit_and_score_estimator):\n",
    "    return {estimator: fit_and_score_estimator(estimator) for estimator in estimators}\n",
    "\n",
    "\n",
    "def get_best_estimator(scoreByEstimator):\n",
    "    return max(scoreByEstimator, key=scoreByEstimator.get)\n",
    "\n",
    "\n",
    "def get_hyper_params(estimator, hyper_param_names):\n",
    "    return restrict_dict_to_keys(estimator.get_params(), hyper_param_names)\n",
    "\n",
    "\n",
    "def restrict_dict_to_keys(d, keys):\n",
    "    return {key: value for key, value in d.items() if key in keys}"
   ]
  },
  {
   "cell_type": "markdown",
   "metadata": {},
   "source": [
    "Wir wenden im folgenden `grid_search` beispielhaft auf den Lernalgorithmus `SVC` an und lassen ihn beim Lernen des Zusammenhanges zwischen den Eingabedaten `[[1], [2], [3], [4], [5], [6]]` und Ausgabedaten `[10, 20, 30, 40, 50, 60]` die beste Kombination der Hyperparameter `C` und `kernel` aus dem `hyper_params_pool` `{'C': [1, 10, 100], 'kernel': ['linear', 'rbf']}` finden:\n",
    "<a id='grid_search with fit_and_score'></a>"
   ]
  },
  {
   "cell_type": "code",
   "execution_count": 77,
   "metadata": {},
   "outputs": [
    {
     "name": "stdout",
     "output_type": "stream",
     "text": [
      "best combination of hyperparameters is: {'C': 1, 'kernel': 'linear'}\n"
     ]
    }
   ],
   "source": [
    "import numpy as np\n",
    "from sklearn.svm import SVC\n",
    "\n",
    "def fit_and_score(estimator, X, y):\n",
    "    estimator.fit(X, y)\n",
    "    return estimator.score(X, y)\n",
    "\n",
    "best_hyper_params = grid_search(\n",
    "    estimator_factory=lambda hyper_params: SVC(**hyper_params),\n",
    "    hyper_params_pool={'C': [1, 10, 100], 'kernel': ['linear', 'rbf']},\n",
    "    fit_and_score=fit_and_score,\n",
    "    X=np.array([[1], [2], [3], [4], [5], [6]]),\n",
    "    y=np.array([10, 20, 30, 40, 50, 60]))\n",
    "\n",
    "print(\"best combination of hyperparameters is:\", best_hyper_params)"
   ]
  },
  {
   "cell_type": "markdown",
   "metadata": {},
   "source": [
    "Dabei wurde während der Ausführung von `grid_search` in der Funktion `create_estimators` mit dem Funktionsaufruf `dict_product({'C': [1, 10, 100], 'kernel': ['linear', 'rbf']})` das kartesische Produkt (oder Grid) $\\{1, 10, 100\\} \\times \\{\\text{linear}, \\text{rbf}\\}$ erzeugt, um den `SVC` Lernalgorithmus mit den Hyperparameterkombinationen aus dem Grid nacheinander zu konfigurieren:"
   ]
  },
  {
   "cell_type": "code",
   "execution_count": 78,
   "metadata": {},
   "outputs": [
    {
     "data": {
      "text/plain": [
       "[{'C': 1, 'kernel': 'linear'},\n",
       " {'C': 1, 'kernel': 'rbf'},\n",
       " {'C': 10, 'kernel': 'linear'},\n",
       " {'C': 10, 'kernel': 'rbf'},\n",
       " {'C': 100, 'kernel': 'linear'},\n",
       " {'C': 100, 'kernel': 'rbf'}]"
      ]
     },
     "execution_count": 78,
     "metadata": {},
     "output_type": "execute_result"
    }
   ],
   "source": [
    "all_hyper_param_combinations = list(dict_product({'C': [1, 10, 100], 'kernel': ['linear', 'rbf']}))\n",
    "all_hyper_param_combinations"
   ]
  },
  {
   "cell_type": "markdown",
   "metadata": {},
   "source": [
    "Den besten score hat SVC für die Hyperparameterkombination `{'C': 1, 'kernel': 'linear'}` erreicht."
   ]
  },
  {
   "cell_type": "markdown",
   "metadata": {},
   "source": [
    "### Question 8 - Cross-Validation\n",
    "\n",
    "* What is the k-fold cross-validation training technique? \n",
    "\n",
    "* What benefit does this technique provide for grid search when optimizing a model?\n",
    "\n",
    "**Hint:** When explaining the k-fold cross validation technique, be sure to touch upon what 'k' is, how the dataset is split into different parts for training and testing and the number of times it is run based on the 'k' value.\n",
    "\n",
    "When thinking about how k-fold cross validation helps grid search, think about the main drawbacks of grid search which are hinged upon **using a particular subset of data for training or testing** and how k-fold cv could help alleviate that. You can refer to the [docs](http://scikit-learn.org/stable/modules/cross_validation.html#cross-validation) for your answer."
   ]
  },
  {
   "cell_type": "markdown",
   "metadata": {},
   "source": [
    "**Answer: **\n",
    "\n",
    "Die k-fold cross-validation training technique `k_fold_cross_validate` trainiert einen Lernalgorithmus `estimator`, damit er den Zusammenhang zwischen Eingabedaten `X` und Ausgabedaten `y` lernt, und gibt seine Performance in Form eines scores zurück. Dabei wird beim Training und Validieren eine spezielle Aufteilung der Eingabedaten `X` vorgenommen: Teile die Eingabedaten `X` in $k$ (= `n_splits`) möglichst gleich große Teile $T_1,\\dots,T_k$ auf. Verwende für $i=1,\\dots,k$ den Teil $T_i$ als Testdaten und die anderen Teile $\\bigcup(\\{T_1,\\dots,T_k\\} \\setminus \\{T_i\\})$ als Trainingsdaten, um damit den Lernalgorithmus zu trainieren und zu testen (was einen score $\\text{score}_i$ liefert). Der Rückgabewert von `k_fold_cross_validate` ist der durchschnittliche score $\\frac{1}{k} \\sum_{i=1}^k \\text{score}_i$ der $k$ Ausführungen:\n"
   ]
  },
  {
   "cell_type": "code",
   "execution_count": 79,
   "metadata": {},
   "outputs": [],
   "source": [
    "import numpy as np\n",
    "\n",
    "\n",
    "# k = n_splits\n",
    "def k_fold_cross_validate(estimator, X, y, n_splits):\n",
    "    return mean(cross_validation_scores(estimator, X, y, n_splits))\n",
    "\n",
    "\n",
    "def mean(iterable):\n",
    "    return np.fromiter(iterable, dtype=np.float).mean()\n",
    "\n",
    "\n",
    "def cross_validation_scores(estimator, X, y, n_splits):\n",
    "    for X_train, X_test, y_train, y_test in train_test_cross_split(X, y, n_splits):\n",
    "        estimator.fit(X_train, y_train)\n",
    "        yield estimator.score(X_test, y_test)\n",
    "\n",
    "\n",
    "def train_test_cross_split(X, y, n_splits):\n",
    "    for train_index, test_index in train_test_cross_split_indices(len(X), n_splits):\n",
    "        yield X[train_index], X[test_index], y[train_index], y[test_index]\n",
    "\n",
    "\n",
    "def train_test_cross_split_indices(n_samples, n_splits):\n",
    "    for test_index in test_cross_split_indices(n_samples, n_splits):\n",
    "        train_index = [x for x in range(n_samples) if x not in test_index]\n",
    "        yield train_index, test_index\n",
    "\n",
    "\n",
    "# partly taken from https://github.com/scikit-learn/scikit-learn/blob/a24c8b46/sklearn/model_selection/_split.py#L421\n",
    "def test_cross_split_indices(n_samples, n_splits):\n",
    "    indices = np.arange(n_samples)\n",
    "    fold_sizes = (n_samples // n_splits) * np.ones(n_splits, dtype=np.int)\n",
    "    fold_sizes[:n_samples % n_splits] += 1\n",
    "    current = 0\n",
    "    for fold_size in fold_sizes:\n",
    "        start, stop = current, current + fold_size\n",
    "        yield indices[start:stop].tolist()\n",
    "        current = stop"
   ]
  },
  {
   "cell_type": "markdown",
   "metadata": {},
   "source": [
    "Im folgenden wird mit `k_fold_cross_validate` beispielhaft der Lernalgorithmus `LinearRegression` trainiert, den Zusammenhang zwischen den Eingabedaten `[[1], [2], [3], [4], [5], [6]]`und den Ausgabedaten `[10, 20, 30, 40, 50, 60]` zu lernen:"
   ]
  },
  {
   "cell_type": "code",
   "execution_count": 80,
   "metadata": {},
   "outputs": [
    {
     "name": "stdout",
     "output_type": "stream",
     "text": [
      "score:  1.0\n"
     ]
    }
   ],
   "source": [
    "from sklearn import linear_model\n",
    "\n",
    "estimator = linear_model.LinearRegression()\n",
    "X = np.array([[1], [2], [3], [4], [5], [6]])\n",
    "y = np.array([10, 20, 30, 40, 50, 60])\n",
    "n_splits = 3\n",
    "\n",
    "score = k_fold_cross_validate(estimator, X, y, n_splits)\n",
    "print(\"score: \", score)"
   ]
  },
  {
   "cell_type": "markdown",
   "metadata": {},
   "source": [
    "Während der Ausführung von `k_fold_cross_validate` wurde mit der Funktion `train_test_cross_split(X, y, n_splits)` die folgende 3-fache Aufteilung der Eingabedaten `X` (und der dazugehörenden Ausgabedaten `y`) in Trainings- und Testdaten vorgenommen:"
   ]
  },
  {
   "cell_type": "code",
   "execution_count": 81,
   "metadata": {},
   "outputs": [
    {
     "name": "stdout",
     "output_type": "stream",
     "text": [
      "X_train:  [[3], [4], [5], [6]] X_test:  [[1], [2]]\n",
      "X_train:  [[1], [2], [5], [6]] X_test:  [[3], [4]]\n",
      "X_train:  [[1], [2], [3], [4]] X_test:  [[5], [6]]\n"
     ]
    }
   ],
   "source": [
    "for X_train_, X_test_, y_train_, y_test_ in train_test_cross_split(X, y, n_splits):\n",
    "    print(\"X_train: \", X_train_.tolist(), \"X_test: \", X_test_.tolist())"
   ]
  },
  {
   "cell_type": "markdown",
   "metadata": {},
   "source": [
    "Die oben definierte Funktion `fit_and_score`, die als Parameter im obigen Beispielaufruf von [`grid_search`](#grid_search with fit_and_score) übergeben wurde, verwendet sowohl für das Training (`estimator.fit(X, y)`) als auch für die Validierung (`estimator.score(X, y)`) jeweils dieselben Daten `X`. Das kann eine schlechte Generalisierungsleistung des `estimator` durch Overfitting zur Folge haben. Um dies zu vermeiden kann statt `fit_and_score` besser `k_fold_cross_validate` im `grid_search`-Algorithmus für den `fit_and_score`-Parameter verwendet werden, wie es im folgenden Beispiel getan wird:"
   ]
  },
  {
   "cell_type": "code",
   "execution_count": 82,
   "metadata": {},
   "outputs": [
    {
     "data": {
      "text/plain": [
       "{'C': 1, 'kernel': 'linear'}"
      ]
     },
     "execution_count": 82,
     "metadata": {},
     "output_type": "execute_result"
    }
   ],
   "source": [
    "def cross_validate(estimator, X, y):\n",
    "    return k_fold_cross_validate(estimator, X, y, 3)\n",
    "\n",
    "best_hyper_params = grid_search(\n",
    "            estimator_factory=lambda hyper_params: SVC(**hyper_params),\n",
    "            hyper_params_pool={'C': [1, 10, 100, 1000], 'kernel': ['linear', 'rbf']},\n",
    "            fit_and_score=cross_validate,\n",
    "            X=np.array([[1], [2], [3], [4], [5], [6]]),\n",
    "            y=np.array([10, 20, 30, 40, 50, 60]))\n",
    "best_hyper_params"
   ]
  },
  {
   "cell_type": "markdown",
   "metadata": {},
   "source": [
    "https://en.wikipedia.org/wiki/Cross-validation_(statistics)#k-fold_cross-validation\n",
    "\"Cross-validation is, thus, a generally applicable way to predict the performance of a model on a validation set using computation in place of mathematical analysis.\"\n",
    "\n",
    "https://stats.stackexchange.com/questions/266225/step-by-step-explanation-of-k-fold-cross-validation-with-grid-search-to-optimise/266229"
   ]
  },
  {
   "cell_type": "markdown",
   "metadata": {},
   "source": [
    "### Implementation: Fitting a Model\n",
    "Your final implementation requires that you bring everything together and train a model using the **decision tree algorithm**. To ensure that you are producing an optimized model, you will train the model using the grid search technique to optimize the `'max_depth'` parameter for the decision tree. The `'max_depth'` parameter can be thought of as how many questions the decision tree algorithm is allowed to ask about the data before making a prediction. Decision trees are part of a class of algorithms called *supervised learning algorithms*.\n",
    "\n",
    "In addition, you will find your implementation is using `ShuffleSplit()` for an alternative form of cross-validation (see the `'cv_sets'` variable). While it is not the K-Fold cross-validation technique you describe in **Question 8**, this type of cross-validation technique is just as useful!. The `ShuffleSplit()` implementation below will create 10 (`'n_splits'`) shuffled sets, and for each shuffle, 20% (`'test_size'`) of the data will be used as the *validation set*. While you're working on your implementation, think about the contrasts and similarities it has to the K-fold cross-validation technique.\n",
    "\n",
    "Please note that ShuffleSplit has different parameters in scikit-learn versions 0.17 and 0.18.\n",
    "For the `fit_model` function in the code cell below, you will need to implement the following:\n",
    "- Use [`DecisionTreeRegressor`](http://scikit-learn.org/stable/modules/generated/sklearn.tree.DecisionTreeRegressor.html) from `sklearn.tree` to create a decision tree regressor object.\n",
    "  - Assign this object to the `'regressor'` variable.\n",
    "- Create a dictionary for `'max_depth'` with the values from 1 to 10, and assign this to the `'params'` variable.\n",
    "- Use [`make_scorer`](http://scikit-learn.org/stable/modules/generated/sklearn.metrics.make_scorer.html) from `sklearn.metrics` to create a scoring function object.\n",
    "  - Pass the `performance_metric` function as a parameter to the object.\n",
    "  - Assign this scoring function to the `'scoring_fnc'` variable.\n",
    "- Use [`GridSearchCV`](http://scikit-learn.org/stable/modules/generated/sklearn.model_selection.GridSearchCV.html) from `sklearn.grid_search` to create a grid search object.\n",
    "  - Pass the variables `'regressor'`, `'params'`, `'scoring_fnc'`, and `'cv_sets'` as parameters to the object. \n",
    "  - Assign the `GridSearchCV` object to the `'grid'` variable."
   ]
  },
  {
   "cell_type": "code",
   "execution_count": 83,
   "metadata": {},
   "outputs": [],
   "source": [
    "# TODO: Import 'make_scorer', 'DecisionTreeRegressor', and 'GridSearchCV'\n",
    "from sklearn.metrics import make_scorer\n",
    "from sklearn.tree import DecisionTreeRegressor\n",
    "from sklearn.model_selection import GridSearchCV\n",
    "\n",
    "def fit_model(X, y):\n",
    "    \"\"\" Performs grid search over the 'max_depth' parameter for a \n",
    "        decision tree regressor trained on the input data [X, y]. \"\"\"\n",
    "    \n",
    "    # Create cross-validation sets from the training data\n",
    "    # sklearn version 0.18: ShuffleSplit(n_splits=10, test_size=0.1, train_size=None, random_state=None)\n",
    "    # sklearn versiin 0.17: ShuffleSplit(n, n_iter=10, test_size=0.1, train_size=None, random_state=None)\n",
    "    cv_sets = ShuffleSplit(n_splits=10, test_size=0.2, random_state=0)\n",
    "\n",
    "    # TODO: Create a decision tree regressor object\n",
    "    regressor = DecisionTreeRegressor()\n",
    "\n",
    "    # TODO: Create a dictionary for the parameter 'max_depth' with a range from 1 to 10\n",
    "    params = {'max_depth': range(1, 11)}\n",
    "\n",
    "    # TODO: Transform 'performance_metric' into a scoring function using 'make_scorer' \n",
    "    scoring_fnc = make_scorer(performance_metric)\n",
    "\n",
    "    # TODO: Create the grid search cv object --> GridSearchCV()\n",
    "    # Make sure to include the right parameters in the object:\n",
    "    # (estimator, param_grid, scoring, cv) which have values 'regressor', 'params', 'scoring_fnc', and 'cv_sets' respectively.\n",
    "    grid = GridSearchCV(regressor, params, scoring_fnc, cv = cv_sets)\n",
    "\n",
    "    # Fit the grid search object to the data to compute the optimal model\n",
    "    grid = grid.fit(X, y)\n",
    "\n",
    "    # Return the optimal model after fitting the data\n",
    "    return grid.best_estimator_"
   ]
  },
  {
   "cell_type": "markdown",
   "metadata": {},
   "source": [
    "### Making Predictions\n",
    "Once a model has been trained on a given set of data, it can now be used to make predictions on new sets of input data. In the case of a *decision tree regressor*, the model has learned *what the best questions to ask about the input data are*, and can respond with a prediction for the **target variable**. You can use these predictions to gain information about data where the value of the target variable is unknown — such as data the model was not trained on."
   ]
  },
  {
   "cell_type": "markdown",
   "metadata": {},
   "source": [
    "### Question 9 - Optimal Model\n",
    "\n",
    "* What maximum depth does the optimal model have? How does this result compare to your guess in **Question 6**?  \n",
    "\n",
    "Run the code block below to fit the decision tree regressor to the training data and produce an optimal model."
   ]
  },
  {
   "cell_type": "code",
   "execution_count": 84,
   "metadata": {
    "scrolled": true
   },
   "outputs": [
    {
     "name": "stdout",
     "output_type": "stream",
     "text": [
      "Parameter 'max_depth' is 4 for the optimal model.\n"
     ]
    }
   ],
   "source": [
    "# Fit the training data to the model using grid search\n",
    "reg = fit_model(X_train, y_train)\n",
    "\n",
    "# Produce the value for 'max_depth'\n",
    "print(\"Parameter 'max_depth' is {} for the optimal model.\".format(reg.get_params()['max_depth']))"
   ]
  },
  {
   "cell_type": "markdown",
   "metadata": {},
   "source": [
    "** Hint: ** The answer comes from the output of the code snipped above.\n",
    "\n",
    "**Answer: **\n",
    "\n",
    "The above code outputs: ```Parameter 'max_depth' is 4 for the optimal model.```, which confirms the answer given in Question 6: \"maximum depth = 4\" "
   ]
  },
  {
   "cell_type": "markdown",
   "metadata": {},
   "source": [
    "### Question 10 - Predicting Selling Prices\n",
    "Imagine that you were a real estate agent in the Boston area looking to use this model to help price homes owned by your clients that they wish to sell. You have collected the following information from three of your clients:\n",
    "\n",
    "| Feature | Client 1 | Client 2 | Client 3 |\n",
    "| :---: | :---: | :---: | :---: |\n",
    "| Total number of rooms in home | 5 rooms | 4 rooms | 8 rooms |\n",
    "| Neighborhood poverty level (as %) | 17% | 32% | 3% |\n",
    "| Student-teacher ratio of nearby schools | 15-to-1 | 22-to-1 | 12-to-1 |\n",
    "\n",
    "* What price would you recommend each client sell his/her home at? \n",
    "* Do these prices seem reasonable given the values for the respective features? \n",
    "\n",
    "**Hint:** Use the statistics you calculated in the **Data Exploration** section to help justify your response.  Of the three clients, client 3 has has the biggest house, in the best public school neighborhood with the lowest poverty level; while client 2 has the smallest house, in a neighborhood with a relatively high poverty rate and not the best public schools.\n",
    "\n",
    "Run the code block below to have your optimized model make predictions for each client's home."
   ]
  },
  {
   "cell_type": "code",
   "execution_count": 85,
   "metadata": {},
   "outputs": [
    {
     "name": "stdout",
     "output_type": "stream",
     "text": [
      "Predicted selling price for Client 1's home: $413,280.00\n",
      "Predicted selling price for Client 2's home: $248,100.00\n",
      "Predicted selling price for Client 3's home: $953,820.00\n"
     ]
    }
   ],
   "source": [
    "# Produce a matrix for client data\n",
    "client_data = [[5, 17, 15], # Client 1\n",
    "               [4, 32, 22], # Client 2\n",
    "               [8, 3, 12]]  # Client 3\n",
    "\n",
    "# Show predictions\n",
    "for i, price in enumerate(reg.predict(client_data)):\n",
    "    print(\"Predicted selling price for Client {}'s home: ${:,.2f}\".format(i+1, price))"
   ]
  },
  {
   "cell_type": "markdown",
   "metadata": {},
   "source": [
    "**Answer: **\n",
    "\n",
    "Predicted selling price for Client 1's home: $413,280.00\n",
    "\n",
    "Predicted selling price for Client 2's home: $248,100.00\n",
    "\n",
    "Predicted selling price for Client 3's home: $953,820.00\n",
    "\n",
    "client 2 is nearest to Minimum price: $105,000.00\n",
    "\n",
    "client 3 is nearest to Maximum price: $1,024,800.00\n",
    "\n",
    "client 1 is nearest to Mean price: $454,342.94 and Median price: $438,900.00"
   ]
  },
  {
   "cell_type": "markdown",
   "metadata": {},
   "source": [
    "### Sensitivity\n",
    "An optimal model is not necessarily a robust model. Sometimes, a model is either too complex or too simple to sufficiently generalize to new data. Sometimes, a model could use a learning algorithm that is not appropriate for the structure of the data given. Other times, the data itself could be too noisy or contain too few samples to allow a model to adequately capture the target variable — i.e., the model is underfitted. \n",
    "\n",
    "**Run the code cell below to run the `fit_model` function ten times with different training and testing sets to see how the prediction for a specific client changes with respect to the data it's trained on.**"
   ]
  },
  {
   "cell_type": "code",
   "execution_count": 86,
   "metadata": {},
   "outputs": [
    {
     "name": "stdout",
     "output_type": "stream",
     "text": [
      "Trial 1: $391,183.33\n",
      "Trial 2: $419,700.00\n",
      "Trial 3: $415,800.00\n",
      "Trial 4: $420,622.22\n",
      "Trial 5: $418,377.27\n",
      "Trial 6: $411,931.58\n",
      "Trial 7: $399,663.16\n",
      "Trial 8: $407,232.00\n",
      "Trial 9: $351,577.61\n",
      "Trial 10: $413,700.00\n",
      "\n",
      "Range in prices: $69,044.61\n"
     ]
    }
   ],
   "source": [
    "vs.PredictTrials(features, prices, fit_model, client_data)"
   ]
  },
  {
   "cell_type": "markdown",
   "metadata": {},
   "source": [
    "### Question 11 - Applicability\n",
    "\n",
    "* In a few sentences, discuss whether the constructed model should or should not be used in a real-world setting.  \n",
    "\n",
    "**Hint:** Take a look at the range in prices as calculated in the code snippet above. Some questions to answering:\n",
    "- How relevant today is data that was collected from 1978? How important is inflation?\n",
    "- Are the features present in the data sufficient to describe a home? Do you think factors like quality of apppliances in the home, square feet of the plot area, presence of pool or not etc should factor in?\n",
    "- Is the model robust enough to make consistent predictions?\n",
    "- Would data collected in an urban city like Boston be applicable in a rural city?\n",
    "- Is it fair to judge the price of an individual home based on the characteristics of the entire neighborhood?"
   ]
  },
  {
   "cell_type": "markdown",
   "metadata": {},
   "source": [
    "**Answer: **\n",
    "\n",
    "\"Range in prices: $69,044.61\" ist zu groß. => schlechtes Modell für die reale Welt, gegenüber der Auswahl der Trainingsdaten zu empfindlich. Mehr Daten als 489 data points verwenden, z.B. im Buch \"Hands-On Machine Learning with Scikit-Learn and TensorFlow\" werden mehr als 20000 Datensätze verwendet.\n",
    "\n",
    "1. \n",
    "2. \"Hands-On Machine Learning with Scikit-Learn and TensorFlow by Aurélien Géron (O’Reilly). Copyright 2017 Aurélien Géron, 978-1-491-96229-9.\" page 75: RandomForestRegressor => importance of attributes in decreasing order: median_income, ocean_proximity = INLAND, population_per_household, longitude, latitude, rooms_per_household (= our RM), bedrooms_per_room, housing_median_age.\n",
    "3. \n",
    "4. \n",
    "5. "
   ]
  },
  {
   "cell_type": "markdown",
   "metadata": {},
   "source": [
    "> **Note**: Once you have completed all of the code implementations and successfully answered each question above, you may finalize your work by exporting the iPython Notebook as an HTML document. You can do this by using the menu above and navigating to  \n",
    "**File -> Download as -> HTML (.html)**. Include the finished document along with this notebook as your submission."
   ]
  }
 ],
 "metadata": {
  "anaconda-cloud": {},
  "kernelspec": {
   "display_name": "Python 3",
   "language": "python",
   "name": "python3"
  },
  "language_info": {
   "codemirror_mode": {
    "name": "ipython",
    "version": 3
   },
   "file_extension": ".py",
   "mimetype": "text/x-python",
   "name": "python",
   "nbconvert_exporter": "python",
   "pygments_lexer": "ipython3",
   "version": "3.6.4"
  }
 },
 "nbformat": 4,
 "nbformat_minor": 1
}
